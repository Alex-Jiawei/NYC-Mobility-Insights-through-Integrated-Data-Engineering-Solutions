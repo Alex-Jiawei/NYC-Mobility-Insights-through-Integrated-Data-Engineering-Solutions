{
 "cells": [
  {
   "cell_type": "code",
   "execution_count": 2,
   "metadata": {},
   "outputs": [
    {
     "name": "stdout",
     "output_type": "stream",
     "text": [
      "Collecting plotly\n",
      "  Downloading plotly-5.24.1-py3-none-any.whl.metadata (7.3 kB)\n",
      "Collecting tenacity>=6.2.0 (from plotly)\n",
      "  Downloading tenacity-9.0.0-py3-none-any.whl.metadata (1.2 kB)\n",
      "Requirement already satisfied: packaging in /Users/jason/Documents (Mac)/Productivity/vscode_dir/myenv/lib/python3.10/site-packages (from plotly) (24.2)\n",
      "Downloading plotly-5.24.1-py3-none-any.whl (19.1 MB)\n",
      "\u001b[2K   \u001b[90m━━━━━━━━━━━━━━━━━━━━━━━━━━━━━━━━━━━━━━━━\u001b[0m \u001b[32m19.1/19.1 MB\u001b[0m \u001b[31m54.4 MB/s\u001b[0m eta \u001b[36m0:00:00\u001b[0ma \u001b[36m0:00:01\u001b[0m\n",
      "\u001b[?25hDownloading tenacity-9.0.0-py3-none-any.whl (28 kB)\n",
      "Installing collected packages: tenacity, plotly\n",
      "Successfully installed plotly-5.24.1 tenacity-9.0.0\n",
      "Note: you may need to restart the kernel to use updated packages.\n"
     ]
    }
   ],
   "source": [
    "pip install plotly"
   ]
  },
  {
   "cell_type": "code",
   "execution_count": 1,
   "metadata": {},
   "outputs": [],
   "source": [
    "import pandas as pd\n",
    "import seaborn as sns\n",
    "import matplotlib.pyplot as plt\n",
    "from datetime import datetime\n",
    "import plotly.express as px"
   ]
  },
  {
   "cell_type": "code",
   "execution_count": 2,
   "metadata": {},
   "outputs": [
    {
     "name": "stderr",
     "output_type": "stream",
     "text": [
      "/var/folders/4r/0r_9q19d30d02mbxyh2d_m7w0000gn/T/ipykernel_22084/1287078878.py:14: DtypeWarning: Columns (2) have mixed types. Specify dtype option on import or set low_memory=False.\n",
      "  df0423 = pd.read_csv(\"/Users/jason/Documents (Mac)/DE data/0423 - MTA_Subway_Hourly_Ridership__Beginning_July_2020_20241201.csv\")\n"
     ]
    }
   ],
   "source": [
    "\n",
    "df0322 = pd.read_csv(\"/Users/jason/Documents (Mac)/DE data/0322 - MTA_Subway_Hourly_Ridership__Beginning_July_2020_20241201.csv\")\n",
    "df0422 = pd.read_csv(\"/Users/jason/Documents (Mac)/DE data/0422 - MTA_Subway_Hourly_Ridership__Beginning_July_2020_20241201.csv\")\n",
    "df0522 = pd.read_csv(\"/Users/jason/Documents (Mac)/DE data/0522 - MTA_Subway_Hourly_Ridership__Beginning_July_2020_20241201.csv\")\n",
    "df0622 = pd.read_csv(\"/Users/jason/Documents (Mac)/DE data/0622 - MTA_Subway_Hourly_Ridership__Beginning_July_2020_20241201.csv\")\n",
    "df0722 = pd.read_csv(\"/Users/jason/Documents (Mac)/DE data/0722 - MTA_Subway_Hourly_Ridership__Beginning_July_2020_20241201.csv\")\n",
    "df0822 = pd.read_csv(\"/Users/jason/Documents (Mac)/DE data/0822 - MTA_Subway_Hourly_Ridership__Beginning_July_2020_20241201.csv\")\n",
    "df0922 = pd.read_csv(\"/Users/jason/Documents (Mac)/DE data/0922 - MTA_Subway_Hourly_Ridership__Beginning_July_2020_20241201.csv\")\n",
    "df1022 = pd.read_csv(\"/Users/jason/Documents (Mac)/DE data/1022 - MTA_Subway_Hourly_Ridership__Beginning_July_2020_20241201.csv\")\n",
    "df1122 = pd.read_csv(\"/Users/jason/Documents (Mac)/DE data/1122 - MTA_Subway_Hourly_Ridership__Beginning_July_2020_20241201.csv\")\n",
    "df1222 = pd.read_csv(\"/Users/jason/Documents (Mac)/DE data/1222 - MTA_Subway_Hourly_Ridership__Beginning_July_2020_20241201.csv\")\n",
    "df0123 = pd.read_csv(\"/Users/jason/Documents (Mac)/DE data/0123 - MTA_Subway_Hourly_Ridership__Beginning_July_2020_20241201.csv\")\n",
    "df0223 = pd.read_csv(\"/Users/jason/Documents (Mac)/DE data/0223 - MTA_Subway_Hourly_Ridership__Beginning_July_2020_20241201.csv\")\n",
    "df0323 = pd.read_csv(\"/Users/jason/Documents (Mac)/DE data/0323 - MTA_Subway_Hourly_Ridership__Beginning_July_2020_20241201.csv\")\n",
    "df0423 = pd.read_csv(\"/Users/jason/Documents (Mac)/DE data/0423 - MTA_Subway_Hourly_Ridership__Beginning_July_2020_20241201.csv\")\n",
    "df0523 = pd.read_csv(\"/Users/jason/Documents (Mac)/DE data/0523 - MTA_Subway_Hourly_Ridership__Beginning_July_2020_20241201.csv\")\n",
    "df0623 = pd.read_csv(\"/Users/jason/Documents (Mac)/DE data/0623 - MTA_Subway_Hourly_Ridership__Beginning_July_2020_20241201.csv\")\n",
    "df0723 = pd.read_csv(\"/Users/jason/Documents (Mac)/DE data/0723 - MTA_Subway_Hourly_Ridership__Beginning_July_2020_20241201.csv\")\n",
    "df0823 = pd.read_csv(\"/Users/jason/Documents (Mac)/DE data/0823 - MTA_Subway_Hourly_Ridership__Beginning_July_2020_20241201.csv\")\n",
    "df0923 = pd.read_csv(\"/Users/jason/Documents (Mac)/DE data/0923 - MTA_Subway_Hourly_Ridership__Beginning_July_2020_20241201.csv\")\n",
    "df1023 = pd.read_csv(\"/Users/jason/Documents (Mac)/DE data/1023 - MTA_Subway_Hourly_Ridership__Beginning_July_2020_20241201.csv\")\n",
    "df1123 = pd.read_csv(\"/Users/jason/Documents (Mac)/DE data/1123 - MTA_Subway_Hourly_Ridership__Beginning_July_2020_20241201.csv\")\n",
    "df1223 = pd.read_csv(\"/Users/jason/Documents (Mac)/DE data/1223 - MTA_Subway_Hourly_Ridership__Beginning_July_2020_20241201.csv\")\n",
    "df0124 = pd.read_csv(\"/Users/jason/Documents (Mac)/DE data/0124 - MTA_Subway_Hourly_Ridership__Beginning_July_2020_20241201.csv\")\n",
    "df0224 = pd.read_csv(\"/Users/jason/Documents (Mac)/DE data/0224 - MTA_Subway_Hourly_Ridership__Beginning_July_2020_20241201.csv\")\n",
    "df0324 = pd.read_csv(\"/Users/jason/Documents (Mac)/DE data/0324 - MTA_Subway_Hourly_Ridership__Beginning_July_2020_20241201.csv\")\n",
    "df0424 = pd.read_csv(\"/Users/jason/Documents (Mac)/DE data/0424 - MTA_Subway_Hourly_Ridership__Beginning_July_2020_20241201.csv\")\n",
    "df0524 = pd.read_csv(\"/Users/jason/Documents (Mac)/DE data/0524 - MTA_Subway_Hourly_Ridership__Beginning_July_2020_20241201.csv\")"
   ]
  },
  {
   "cell_type": "code",
   "execution_count": 3,
   "metadata": {},
   "outputs": [],
   "source": [
    "dfs = [df0322, df0422, df0522, df0622, df0722, df0822, df0922, df1022, df1122, df1222,\n",
    "      df0123, df0223, df0323, df0423, df0523, df0623, df0723, df0823, df0923, df1023, df1123, df1223,\n",
    "      df0124, df0224, df0324, df0424, df0524]\n",
    "\n",
    "df = pd.concat(dfs, axis=0, ignore_index=True)"
   ]
  },
  {
   "cell_type": "code",
   "execution_count": 4,
   "metadata": {},
   "outputs": [
    {
     "name": "stdout",
     "output_type": "stream",
     "text": [
      "\n",
      "--- Dataset Info ---\n",
      "<class 'pandas.core.frame.DataFrame'>\n",
      "RangeIndex: 57158928 entries, 0 to 57158927\n",
      "Data columns (total 10 columns):\n",
      " #   Column               Dtype \n",
      "---  ------               ----- \n",
      " 0   transit_timestamp    object\n",
      " 1   transit_mode         object\n",
      " 2   station_complex_id   object\n",
      " 3   station_complex      object\n",
      " 4   borough              object\n",
      " 5   payment_method       object\n",
      " 6   fare_class_category  object\n",
      " 7   ridership            int64 \n",
      " 8   transfers            int64 \n",
      " 9   Georeference         object\n",
      "dtypes: int64(2), object(8)\n",
      "memory usage: 4.3+ GB\n",
      "\n",
      "--- Numerical Statistics ---\n",
      "          ridership     transfers\n",
      "count  5.715893e+07  5.715893e+07\n",
      "mean   4.452108e+01  1.866793e+00\n",
      "std    1.443451e+02  1.160725e+01\n",
      "min    1.000000e+00  0.000000e+00\n",
      "25%    4.000000e+00  0.000000e+00\n",
      "50%    1.200000e+01  0.000000e+00\n",
      "75%    3.500000e+01  1.000000e+00\n",
      "max    1.424300e+04  1.253000e+03\n",
      "\n",
      "--- First 20 Rows ---\n",
      "         transit_timestamp transit_mode station_complex_id  \\\n",
      "0   03/01/2022 12:00:00 AM       subway                  3   \n",
      "1   03/01/2022 12:00:00 AM       subway                284   \n",
      "2   03/01/2022 12:00:00 AM       subway                398   \n",
      "3   03/01/2022 12:00:00 AM       subway                177   \n",
      "4   03/01/2022 12:00:00 AM       subway                119   \n",
      "5   03/01/2022 12:00:00 AM       subway                103   \n",
      "6   03/01/2022 12:00:00 AM       subway                 13   \n",
      "7   03/01/2022 12:00:00 AM       subway                127   \n",
      "8   03/01/2022 12:00:00 AM       subway                234   \n",
      "9   03/01/2022 12:00:00 AM       subway                181   \n",
      "10  03/01/2022 12:00:00 AM       subway                228   \n",
      "11  03/01/2022 12:00:00 AM       subway                179   \n",
      "12  03/01/2022 12:00:00 AM       subway                176   \n",
      "13  03/01/2022 12:00:00 AM       subway                111   \n",
      "14  03/01/2022 12:00:00 AM       subway                286   \n",
      "15  03/01/2022 12:00:00 AM       subway                 10   \n",
      "16  03/01/2022 12:00:00 AM       subway                164   \n",
      "17  03/01/2022 12:00:00 AM       subway                183   \n",
      "18  03/01/2022 12:00:00 AM       subway                228   \n",
      "19  03/01/2022 12:00:00 AM       subway                224   \n",
      "\n",
      "               station_complex    borough payment_method  \\\n",
      "0                  30 Av (N,W)     Queens           omny   \n",
      "1                Nassau Av (G)   Brooklyn           omny   \n",
      "2                    77 St (6)  Manhattan           omny   \n",
      "3   Clinton-Washington Avs (C)   Brooklyn      metrocard   \n",
      "4                     1 Av (L)  Manhattan      metrocard   \n",
      "5                 Bowery (J,Z)  Manhattan           omny   \n",
      "6                  28 St (R,W)  Manhattan           omny   \n",
      "7                DeKalb Av (L)   Brooklyn           omny   \n",
      "8            East Broadway (F)  Manhattan           omny   \n",
      "9               Utica Av (A,C)   Brooklyn      metrocard   \n",
      "10                 23 St (F,M)  Manhattan      metrocard   \n",
      "11           Nostrand Av (A,C)   Brooklyn      metrocard   \n",
      "12            Lafayette Av (C)   Brooklyn      metrocard   \n",
      "13               Seneca Av (M)     Queens      metrocard   \n",
      "14                Broadway (G)   Brooklyn      metrocard   \n",
      "15               49 St (N,R,W)  Manhattan      metrocard   \n",
      "16  34 St-Penn Station (A,C,E)  Manhattan      metrocard   \n",
      "17             Rockaway Av (C)   Brooklyn      metrocard   \n",
      "18                 23 St (F,M)  Manhattan      metrocard   \n",
      "19                   57 St (F)  Manhattan           omny   \n",
      "\n",
      "             fare_class_category  ridership  transfers  \\\n",
      "0               OMNY - Full Fare          4          0   \n",
      "1               OMNY - Full Fare          6          0   \n",
      "2               OMNY - Full Fare          9          0   \n",
      "3          Metrocard - Full Fare          3          1   \n",
      "4          Metrocard - Fair Fare          2          0   \n",
      "5               OMNY - Full Fare         12          1   \n",
      "6               OMNY - Full Fare          5          0   \n",
      "7               OMNY - Full Fare          6          0   \n",
      "8               OMNY - Full Fare          8          0   \n",
      "9              Metrocard - Other          2          0   \n",
      "10         Metrocard - Full Fare         34          0   \n",
      "11   Metrocard - Unlimited 7-Day          5          0   \n",
      "12         Metrocard - Fair Fare          2          0   \n",
      "13         Metrocard - Full Fare         72          1   \n",
      "14   Metrocard - Unlimited 7-Day          3          0   \n",
      "15  Metrocard - Unlimited 30-Day         30          0   \n",
      "16         Metrocard - Full Fare         60          0   \n",
      "17         Metrocard - Full Fare          2          0   \n",
      "18         Metrocard - Fair Fare          4          0   \n",
      "19              OMNY - Full Fare         21          0   \n",
      "\n",
      "                   Georeference  \n",
      "0    POINT (-73.92148 40.76678)  \n",
      "1   POINT (-73.95128 40.724636)  \n",
      "2    POINT (-73.95988 40.77362)  \n",
      "3   POINT (-73.965836 40.68326)  \n",
      "4   POINT (-73.98163 40.730953)  \n",
      "5    POINT (-73.99391 40.72028)  \n",
      "6   POINT (-73.98869 40.745495)  \n",
      "7    POINT (-73.91843 40.70381)  \n",
      "8   POINT (-73.99017 40.713715)  \n",
      "9   POINT (-73.93073 40.679363)  \n",
      "10  POINT (-73.99282 40.742878)  \n",
      "11  POINT (-73.950424 40.68044)  \n",
      "12  POINT (-73.973946 40.68611)  \n",
      "13  POINT (-73.90774 40.702763)  \n",
      "14  POINT (-73.95031 40.706093)  \n",
      "15    POINT (-73.98414 40.7599)  \n",
      "16   POINT (-73.99339 40.75229)  \n",
      "17   POINT (-73.91195 40.67834)  \n",
      "18  POINT (-73.99282 40.742878)  \n",
      "19  POINT (-73.97745 40.763973)  \n"
     ]
    }
   ],
   "source": [
    "print(\"\\n--- Dataset Info ---\")\n",
    "df.info()\n",
    "\n",
    "# Display basic statistics of numerical columns\n",
    "print(\"\\n--- Numerical Statistics ---\")\n",
    "print(df.describe())\n",
    "\n",
    "# Display the first 20 rows\n",
    "print(\"\\n--- First 20 Rows ---\")\n",
    "print(df.head(20))"
   ]
  },
  {
   "cell_type": "code",
   "execution_count": 5,
   "metadata": {},
   "outputs": [],
   "source": [
    "df = df.drop('Georeference', axis=1)"
   ]
  },
  {
   "cell_type": "code",
   "execution_count": 6,
   "metadata": {},
   "outputs": [
    {
     "name": "stdout",
     "output_type": "stream",
     "text": [
      "\n",
      "--- Dataset Info ---\n",
      "<class 'pandas.core.frame.DataFrame'>\n",
      "RangeIndex: 57158928 entries, 0 to 57158927\n",
      "Data columns (total 9 columns):\n",
      " #   Column               Dtype \n",
      "---  ------               ----- \n",
      " 0   transit_timestamp    object\n",
      " 1   transit_mode         object\n",
      " 2   station_complex_id   object\n",
      " 3   station_complex      object\n",
      " 4   borough              object\n",
      " 5   payment_method       object\n",
      " 6   fare_class_category  object\n",
      " 7   ridership            int64 \n",
      " 8   transfers            int64 \n",
      "dtypes: int64(2), object(7)\n",
      "memory usage: 3.8+ GB\n",
      "\n",
      "--- Numerical Statistics ---\n",
      "          ridership     transfers\n",
      "count  5.715893e+07  5.715893e+07\n",
      "mean   4.452108e+01  1.866793e+00\n",
      "std    1.443451e+02  1.160725e+01\n",
      "min    1.000000e+00  0.000000e+00\n",
      "25%    4.000000e+00  0.000000e+00\n",
      "50%    1.200000e+01  0.000000e+00\n",
      "75%    3.500000e+01  1.000000e+00\n",
      "max    1.424300e+04  1.253000e+03\n",
      "\n",
      "--- First 20 Rows ---\n",
      "         transit_timestamp transit_mode station_complex_id  \\\n",
      "0   03/01/2022 12:00:00 AM       subway                  3   \n",
      "1   03/01/2022 12:00:00 AM       subway                284   \n",
      "2   03/01/2022 12:00:00 AM       subway                398   \n",
      "3   03/01/2022 12:00:00 AM       subway                177   \n",
      "4   03/01/2022 12:00:00 AM       subway                119   \n",
      "5   03/01/2022 12:00:00 AM       subway                103   \n",
      "6   03/01/2022 12:00:00 AM       subway                 13   \n",
      "7   03/01/2022 12:00:00 AM       subway                127   \n",
      "8   03/01/2022 12:00:00 AM       subway                234   \n",
      "9   03/01/2022 12:00:00 AM       subway                181   \n",
      "10  03/01/2022 12:00:00 AM       subway                228   \n",
      "11  03/01/2022 12:00:00 AM       subway                179   \n",
      "12  03/01/2022 12:00:00 AM       subway                176   \n",
      "13  03/01/2022 12:00:00 AM       subway                111   \n",
      "14  03/01/2022 12:00:00 AM       subway                286   \n",
      "15  03/01/2022 12:00:00 AM       subway                 10   \n",
      "16  03/01/2022 12:00:00 AM       subway                164   \n",
      "17  03/01/2022 12:00:00 AM       subway                183   \n",
      "18  03/01/2022 12:00:00 AM       subway                228   \n",
      "19  03/01/2022 12:00:00 AM       subway                224   \n",
      "\n",
      "               station_complex    borough payment_method  \\\n",
      "0                  30 Av (N,W)     Queens           omny   \n",
      "1                Nassau Av (G)   Brooklyn           omny   \n",
      "2                    77 St (6)  Manhattan           omny   \n",
      "3   Clinton-Washington Avs (C)   Brooklyn      metrocard   \n",
      "4                     1 Av (L)  Manhattan      metrocard   \n",
      "5                 Bowery (J,Z)  Manhattan           omny   \n",
      "6                  28 St (R,W)  Manhattan           omny   \n",
      "7                DeKalb Av (L)   Brooklyn           omny   \n",
      "8            East Broadway (F)  Manhattan           omny   \n",
      "9               Utica Av (A,C)   Brooklyn      metrocard   \n",
      "10                 23 St (F,M)  Manhattan      metrocard   \n",
      "11           Nostrand Av (A,C)   Brooklyn      metrocard   \n",
      "12            Lafayette Av (C)   Brooklyn      metrocard   \n",
      "13               Seneca Av (M)     Queens      metrocard   \n",
      "14                Broadway (G)   Brooklyn      metrocard   \n",
      "15               49 St (N,R,W)  Manhattan      metrocard   \n",
      "16  34 St-Penn Station (A,C,E)  Manhattan      metrocard   \n",
      "17             Rockaway Av (C)   Brooklyn      metrocard   \n",
      "18                 23 St (F,M)  Manhattan      metrocard   \n",
      "19                   57 St (F)  Manhattan           omny   \n",
      "\n",
      "             fare_class_category  ridership  transfers  \n",
      "0               OMNY - Full Fare          4          0  \n",
      "1               OMNY - Full Fare          6          0  \n",
      "2               OMNY - Full Fare          9          0  \n",
      "3          Metrocard - Full Fare          3          1  \n",
      "4          Metrocard - Fair Fare          2          0  \n",
      "5               OMNY - Full Fare         12          1  \n",
      "6               OMNY - Full Fare          5          0  \n",
      "7               OMNY - Full Fare          6          0  \n",
      "8               OMNY - Full Fare          8          0  \n",
      "9              Metrocard - Other          2          0  \n",
      "10         Metrocard - Full Fare         34          0  \n",
      "11   Metrocard - Unlimited 7-Day          5          0  \n",
      "12         Metrocard - Fair Fare          2          0  \n",
      "13         Metrocard - Full Fare         72          1  \n",
      "14   Metrocard - Unlimited 7-Day          3          0  \n",
      "15  Metrocard - Unlimited 30-Day         30          0  \n",
      "16         Metrocard - Full Fare         60          0  \n",
      "17         Metrocard - Full Fare          2          0  \n",
      "18         Metrocard - Fair Fare          4          0  \n",
      "19              OMNY - Full Fare         21          0  \n"
     ]
    }
   ],
   "source": [
    "print(\"\\n--- Dataset Info ---\")\n",
    "df.info()\n",
    "\n",
    "# Display basic statistics of numerical columns\n",
    "print(\"\\n--- Numerical Statistics ---\")\n",
    "print(df.describe())\n",
    "\n",
    "# Display the first 20 rows\n",
    "print(\"\\n--- First 20 Rows ---\")\n",
    "print(df.head(20))"
   ]
  },
  {
   "cell_type": "code",
   "execution_count": 7,
   "metadata": {},
   "outputs": [
    {
     "name": "stdout",
     "output_type": "stream",
     "text": [
      "transit_timestamp      57158928\n",
      "transit_mode           57158928\n",
      "station_complex_id     57158928\n",
      "station_complex        57158928\n",
      "borough                57158928\n",
      "payment_method         57158928\n",
      "fare_class_category    57158928\n",
      "ridership              57158928\n",
      "transfers              57158928\n",
      "dtype: int64\n"
     ]
    }
   ],
   "source": [
    "print(df.count())"
   ]
  },
  {
   "cell_type": "code",
   "execution_count": 8,
   "metadata": {},
   "outputs": [
    {
     "name": "stderr",
     "output_type": "stream",
     "text": [
      "/var/folders/4r/0r_9q19d30d02mbxyh2d_m7w0000gn/T/ipykernel_22084/365280512.py:2: UserWarning: Could not infer format, so each element will be parsed individually, falling back to `dateutil`. To ensure parsing is consistent and as-expected, please specify a format.\n",
      "  df['transit_timestamp'] = pd.to_datetime(df['transit_timestamp'])\n"
     ]
    }
   ],
   "source": [
    "# Convert timestamp to datetime\n",
    "df['transit_timestamp'] = pd.to_datetime(df['transit_timestamp'])\n",
    "df['hour'] = df['transit_timestamp'].dt.hour\n",
    "df['day'] = df['transit_timestamp'].dt.day_name()\n",
    "df['month'] = df['transit_timestamp'].dt.month"
   ]
  },
  {
   "cell_type": "code",
   "execution_count": 10,
   "metadata": {},
   "outputs": [
    {
     "data": {
      "image/png": "[encoded data removed]",
      "text/plain": [
       "<Figure size 1200x600 with 1 Axes>"
      ]
     },
     "metadata": {},
     "output_type": "display_data"
    }
   ],
   "source": [
    "# 1. Ridership patterns by time\n",
    "# Hourly patterns\n",
    "hourly_ridership = df.groupby('hour')['ridership'].mean().reset_index()\n",
    "plt.figure(figsize=(12, 6))\n",
    "sns.lineplot(data=hourly_ridership, x='hour', y='ridership')\n",
    "plt.title('Average Ridership by Hour')\n",
    "plt.show()\n"
   ]
  },
  {
   "cell_type": "code",
   "execution_count": 11,
   "metadata": {},
   "outputs": [
    {
     "data": {
      "image/png": "[encoded data removed]",
      "text/plain": [
       "<Figure size 1000x600 with 1 Axes>"
      ]
     },
     "metadata": {},
     "output_type": "display_data"
    }
   ],
   "source": [
    "# Daily patterns\n",
    "daily_ridership = df.groupby('day')['ridership'].mean().reindex(['Monday', 'Tuesday', 'Wednesday', 'Thursday', 'Friday', 'Saturday', 'Sunday'])\n",
    "plt.figure(figsize=(10, 6))\n",
    "sns.barplot(x=daily_ridership.index, y=daily_ridership.values)\n",
    "plt.title('Average Ridership by Day')\n",
    "plt.xticks(rotation=45)\n",
    "plt.show()"
   ]
  },
  {
   "cell_type": "code",
   "execution_count": 12,
   "metadata": {},
   "outputs": [
    {
     "data": {
      "image/png": "[encoded data removed]",
      "text/plain": [
       "<Figure size 1000x600 with 1 Axes>"
      ]
     },
     "metadata": {},
     "output_type": "display_data"
    }
   ],
   "source": [
    "# 2. Payment method distribution\n",
    "payment_dist = df['payment_method'].value_counts()\n",
    "plt.figure(figsize=(10, 6))\n",
    "payment_dist.plot(kind='bar')\n",
    "plt.title('Distribution of Payment Methods')\n",
    "plt.xticks(rotation=45)\n",
    "plt.show()"
   ]
  },
  {
   "cell_type": "code",
   "execution_count": 13,
   "metadata": {},
   "outputs": [
    {
     "data": {
      "image/png": "[encoded data removed]",
      "text/plain": [
       "<Figure size 1000x600 with 1 Axes>"
      ]
     },
     "metadata": {},
     "output_type": "display_data"
    }
   ],
   "source": [
    "# 3. Borough analysis\n",
    "borough_ridership = df.groupby('borough')['ridership'].mean().sort_values(ascending=False)\n",
    "plt.figure(figsize=(10, 6))\n",
    "borough_ridership.plot(kind='bar')\n",
    "plt.title('Average Ridership by Borough')\n",
    "plt.xticks(rotation=45)\n",
    "plt.show()"
   ]
  },
  {
   "cell_type": "code",
   "execution_count": 14,
   "metadata": {},
   "outputs": [
    {
     "data": {
      "image/png": "[encoded data removed]",
      "text/plain": [
       "<Figure size 800x600 with 2 Axes>"
      ]
     },
     "metadata": {},
     "output_type": "display_data"
    }
   ],
   "source": [
    "# 4. Correlation analysis\n",
    "numeric_cols = df.select_dtypes(include=['int64']).columns\n",
    "correlation = df[numeric_cols].corr()\n",
    "plt.figure(figsize=(8, 6))\n",
    "sns.heatmap(correlation, annot=True, cmap='coolwarm')\n",
    "plt.title('Correlation Matrix')\n",
    "plt.show()"
   ]
  },
  {
   "cell_type": "code",
   "execution_count": 15,
   "metadata": {},
   "outputs": [
    {
     "data": {
      "image/png": "[encoded data removed]",
      "text/plain": [
       "<Figure size 1500x600 with 1 Axes>"
      ]
     },
     "metadata": {},
     "output_type": "display_data"
    }
   ],
   "source": [
    "# 5. Time series analysis\n",
    "monthly_ridership = df.groupby(df['transit_timestamp'].dt.to_period('M'))['ridership'].mean()\n",
    "plt.figure(figsize=(15, 6))\n",
    "monthly_ridership.plot()\n",
    "plt.title('Monthly Ridership Trends')\n",
    "plt.xticks(rotation=45)\n",
    "plt.show()"
   ]
  },
  {
   "cell_type": "code",
   "execution_count": 18,
   "metadata": {},
   "outputs": [
    {
     "data": {
      "application/vnd.plotly.v1+json": {
       "config": {
        "plotlyServerURL": "https://plot.ly"
       },
       "data": [
        {
         "hoverinfo": "text",
         "marker": {
          "color": "rgb(55, 126, 184)",
          "line": {
           "color": "rgb(8,48,107)",
           "width": 1.5
          }
         },
         "text": [
          "Ridership: 93,112,462<br>Borough: Manhattan<br>Transit: subway<br>(20.1% of top 10)",
          "Ridership: 65,148,038<br>Borough: Manhattan<br>Transit: subway<br>(14.06% of top 10)",
          "Ridership: 51,970,318<br>Borough: Manhattan<br>Transit: subway<br>(11.22% of top 10)",
          "Ridership: 46,663,660<br>Borough: Manhattan<br>Transit: subway<br>(10.07% of top 10)",
          "Ridership: 38,831,567<br>Borough: Manhattan<br>Transit: subway<br>(8.38% of top 10)",
          "Ridership: 37,532,903<br>Borough: Manhattan<br>Transit: subway<br>(8.1% of top 10)",
          "Ridership: 34,931,253<br>Borough: Manhattan<br>Transit: subway<br>(7.54% of top 10)",
          "Ridership: 33,813,725<br>Borough: Manhattan<br>Transit: subway<br>(7.3% of top 10)",
          "Ridership: 30,936,764<br>Borough: Queens<br>Transit: subway<br>(6.68% of top 10)",
          "Ridership: 30,377,419<br>Borough: Queens<br>Transit: subway<br>(6.56% of top 10)"
         ],
         "type": "bar",
         "x": [
          "Times Sq-42 St (N,Q,R,W,S,1,2,3,7)/42 St (A,C,E)",
          "Grand Central-42 St (S,4,5,6,7)",
          "34 St-Herald Sq (B,D,F,M,N,Q,R,W)",
          "14 St-Union Sq (L,N,Q,R,W,4,5,6)",
          "Fulton St (A,C,J,Z,2,3,4,5)",
          "34 St-Penn Station (A,C,E)",
          "59 St-Columbus Circle (A,B,C,D,1)",
          "34 St-Penn Station (1,2,3)",
          "74-Broadway (7)/Jackson Hts-Roosevelt Av (E,F,M,R)",
          "Flushing-Main St (7)"
         ],
         "y": [
          93112462,
          65148038,
          51970318,
          46663660,
          38831567,
          37532903,
          34931253,
          33813725,
          30936764,
          30377419
         ]
        }
       ],
       "layout": {
        "height": 600,
        "plot_bgcolor": "white",
        "showlegend": false,
        "template": {
         "data": {
          "bar": [
           {
            "error_x": {
             "color": "#2a3f5f"
            },
            "error_y": {
             "color": "#2a3f5f"
            },
            "marker": {
             "line": {
              "color": "#E5ECF6",
              "width": 0.5
             },
             "pattern": {
              "fillmode": "overlay",
              "size": 10,
              "solidity": 0.2
             }
            },
            "type": "bar"
           }
          ],
          "barpolar": [
           {
            "marker": {
             "line": {
              "color": "#E5ECF6",
              "width": 0.5
             },
             "pattern": {
              "fillmode": "overlay",
              "size": 10,
              "solidity": 0.2
             }
            },
            "type": "barpolar"
           }
          ],
          "carpet": [
           {
            "aaxis": {
             "endlinecolor": "#2a3f5f",
             "gridcolor": "white",
             "linecolor": "white",
             "minorgridcolor": "white",
             "startlinecolor": "#2a3f5f"
            },
            "baxis": {
             "endlinecolor": "#2a3f5f",
             "gridcolor": "white",
             "linecolor": "white",
             "minorgridcolor": "white",
             "startlinecolor": "#2a3f5f"
            },
            "type": "carpet"
           }
          ],
          "choropleth": [
           {
            "colorbar": {
             "outlinewidth": 0,
             "ticks": ""
            },
            "type": "choropleth"
           }
          ],
          "contour": [
           {
            "colorbar": {
             "outlinewidth": 0,
             "ticks": ""
            },
            "colorscale": [
             [
              0,
              "#0d0887"
             ],
             [
              0.1111111111111111,
              "#46039f"
             ],
             [
              0.2222222222222222,
              "#7201a8"
             ],
             [
              0.3333333333333333,
              "#9c179e"
             ],
             [
              0.4444444444444444,
              "#bd3786"
             ],
             [
              0.5555555555555556,
              "#d8576b"
             ],
             [
              0.6666666666666666,
              "#ed7953"
             ],
             [
              0.7777777777777778,
              "#fb9f3a"
             ],
             [
              0.8888888888888888,
              "#fdca26"
             ],
             [
              1,
              "#f0f921"
             ]
            ],
            "type": "contour"
           }
          ],
          "contourcarpet": [
           {
            "colorbar": {
             "outlinewidth": 0,
             "ticks": ""
            },
            "type": "contourcarpet"
           }
          ],
          "heatmap": [
           {
            "colorbar": {
             "outlinewidth": 0,
             "ticks": ""
            },
            "colorscale": [
             [
              0,
              "#0d0887"
             ],
             [
              0.1111111111111111,
              "#46039f"
             ],
             [
              0.2222222222222222,
              "#7201a8"
             ],
             [
              0.3333333333333333,
              "#9c179e"
             ],
             [
              0.4444444444444444,
              "#bd3786"
             ],
             [
              0.5555555555555556,
              "#d8576b"
             ],
             [
              0.6666666666666666,
              "#ed7953"
             ],
             [
              0.7777777777777778,
              "#fb9f3a"
             ],
             [
              0.8888888888888888,
              "#fdca26"
             ],
             [
              1,
              "#f0f921"
             ]
            ],
            "type": "heatmap"
           }
          ],
          "heatmapgl": [
           {
            "colorbar": {
             "outlinewidth": 0,
             "ticks": ""
            },
            "colorscale": [
             [
              0,
              "#0d0887"
             ],
             [
              0.1111111111111111,
              "#46039f"
             ],
             [
              0.2222222222222222,
              "#7201a8"
             ],
             [
              0.3333333333333333,
              "#9c179e"
             ],
             [
              0.4444444444444444,
              "#bd3786"
             ],
             [
              0.5555555555555556,
              "#d8576b"
             ],
             [
              0.6666666666666666,
              "#ed7953"
             ],
             [
              0.7777777777777778,
              "#fb9f3a"
             ],
             [
              0.8888888888888888,
              "#fdca26"
             ],
             [
              1,
              "#f0f921"
             ]
            ],
            "type": "heatmapgl"
           }
          ],
          "histogram": [
           {
            "marker": {
             "pattern": {
              "fillmode": "overlay",
              "size": 10,
              "solidity": 0.2
             }
            },
            "type": "histogram"
           }
          ],
          "histogram2d": [
           {
            "colorbar": {
             "outlinewidth": 0,
             "ticks": ""
            },
            "colorscale": [
             [
              0,
              "#0d0887"
             ],
             [
              0.1111111111111111,
              "#46039f"
             ],
             [
              0.2222222222222222,
              "#7201a8"
             ],
             [
              0.3333333333333333,
              "#9c179e"
             ],
             [
              0.4444444444444444,
              "#bd3786"
             ],
             [
              0.5555555555555556,
              "#d8576b"
             ],
             [
              0.6666666666666666,
              "#ed7953"
             ],
             [
              0.7777777777777778,
              "#fb9f3a"
             ],
             [
              0.8888888888888888,
              "#fdca26"
             ],
             [
              1,
              "#f0f921"
             ]
            ],
            "type": "histogram2d"
           }
          ],
          "histogram2dcontour": [
           {
            "colorbar": {
             "outlinewidth": 0,
             "ticks": ""
            },
            "colorscale": [
             [
              0,
              "#0d0887"
             ],
             [
              0.1111111111111111,
              "#46039f"
             ],
             [
              0.2222222222222222,
              "#7201a8"
             ],
             [
              0.3333333333333333,
              "#9c179e"
             ],
             [
              0.4444444444444444,
              "#bd3786"
             ],
             [
              0.5555555555555556,
              "#d8576b"
             ],
             [
              0.6666666666666666,
              "#ed7953"
             ],
             [
              0.7777777777777778,
              "#fb9f3a"
             ],
             [
              0.8888888888888888,
              "#fdca26"
             ],
             [
              1,
              "#f0f921"
             ]
            ],
            "type": "histogram2dcontour"
           }
          ],
          "mesh3d": [
           {
            "colorbar": {
             "outlinewidth": 0,
             "ticks": ""
            },
            "type": "mesh3d"
           }
          ],
          "parcoords": [
           {
            "line": {
             "colorbar": {
              "outlinewidth": 0,
              "ticks": ""
             }
            },
            "type": "parcoords"
           }
          ],
          "pie": [
           {
            "automargin": true,
            "type": "pie"
           }
          ],
          "scatter": [
           {
            "fillpattern": {
             "fillmode": "overlay",
             "size": 10,
             "solidity": 0.2
            },
            "type": "scatter"
           }
          ],
          "scatter3d": [
           {
            "line": {
             "colorbar": {
              "outlinewidth": 0,
              "ticks": ""
             }
            },
            "marker": {
             "colorbar": {
              "outlinewidth": 0,
              "ticks": ""
             }
            },
            "type": "scatter3d"
           }
          ],
          "scattercarpet": [
           {
            "marker": {
             "colorbar": {
              "outlinewidth": 0,
              "ticks": ""
             }
            },
            "type": "scattercarpet"
           }
          ],
          "scattergeo": [
           {
            "marker": {
             "colorbar": {
              "outlinewidth": 0,
              "ticks": ""
             }
            },
            "type": "scattergeo"
           }
          ],
          "scattergl": [
           {
            "marker": {
             "colorbar": {
              "outlinewidth": 0,
              "ticks": ""
             }
            },
            "type": "scattergl"
           }
          ],
          "scattermapbox": [
           {
            "marker": {
             "colorbar": {
              "outlinewidth": 0,
              "ticks": ""
             }
            },
            "type": "scattermapbox"
           }
          ],
          "scatterpolar": [
           {
            "marker": {
             "colorbar": {
              "outlinewidth": 0,
              "ticks": ""
             }
            },
            "type": "scatterpolar"
           }
          ],
          "scatterpolargl": [
           {
            "marker": {
             "colorbar": {
              "outlinewidth": 0,
              "ticks": ""
             }
            },
            "type": "scatterpolargl"
           }
          ],
          "scatterternary": [
           {
            "marker": {
             "colorbar": {
              "outlinewidth": 0,
              "ticks": ""
             }
            },
            "type": "scatterternary"
           }
          ],
          "surface": [
           {
            "colorbar": {
             "outlinewidth": 0,
             "ticks": ""
            },
            "colorscale": [
             [
              0,
              "#0d0887"
             ],
             [
              0.1111111111111111,
              "#46039f"
             ],
             [
              0.2222222222222222,
              "#7201a8"
             ],
             [
              0.3333333333333333,
              "#9c179e"
             ],
             [
              0.4444444444444444,
              "#bd3786"
             ],
             [
              0.5555555555555556,
              "#d8576b"
             ],
             [
              0.6666666666666666,
              "#ed7953"
             ],
             [
              0.7777777777777778,
              "#fb9f3a"
             ],
             [
              0.8888888888888888,
              "#fdca26"
             ],
             [
              1,
              "#f0f921"
             ]
            ],
            "type": "surface"
           }
          ],
          "table": [
           {
            "cells": {
             "fill": {
              "color": "#EBF0F8"
             },
             "line": {
              "color": "white"
             }
            },
            "header": {
             "fill": {
              "color": "#C8D4E3"
             },
             "line": {
              "color": "white"
             }
            },
            "type": "table"
           }
          ]
         },
         "layout": {
          "annotationdefaults": {
           "arrowcolor": "#2a3f5f",
           "arrowhead": 0,
           "arrowwidth": 1
          },
          "autotypenumbers": "strict",
          "coloraxis": {
           "colorbar": {
            "outlinewidth": 0,
            "ticks": ""
           }
          },
          "colorscale": {
           "diverging": [
            [
             0,
             "#8e0152"
            ],
            [
             0.1,
             "#c51b7d"
            ],
            [
             0.2,
             "#de77ae"
            ],
            [
             0.3,
             "#f1b6da"
            ],
            [
             0.4,
             "#fde0ef"
            ],
            [
             0.5,
             "#f7f7f7"
            ],
            [
             0.6,
             "#e6f5d0"
            ],
            [
             0.7,
             "#b8e186"
            ],
            [
             0.8,
             "#7fbc41"
            ],
            [
             0.9,
             "#4d9221"
            ],
            [
             1,
             "#276419"
            ]
           ],
           "sequential": [
            [
             0,
             "#0d0887"
            ],
            [
             0.1111111111111111,
             "#46039f"
            ],
            [
             0.2222222222222222,
             "#7201a8"
            ],
            [
             0.3333333333333333,
             "#9c179e"
            ],
            [
             0.4444444444444444,
             "#bd3786"
            ],
            [
             0.5555555555555556,
             "#d8576b"
            ],
            [
             0.6666666666666666,
             "#ed7953"
            ],
            [
             0.7777777777777778,
             "#fb9f3a"
            ],
            [
             0.8888888888888888,
             "#fdca26"
            ],
            [
             1,
             "#f0f921"
            ]
           ],
           "sequentialminus": [
            [
             0,
             "#0d0887"
            ],
            [
             0.1111111111111111,
             "#46039f"
            ],
            [
             0.2222222222222222,
             "#7201a8"
            ],
            [
             0.3333333333333333,
             "#9c179e"
            ],
            [
             0.4444444444444444,
             "#bd3786"
            ],
            [
             0.5555555555555556,
             "#d8576b"
            ],
            [
             0.6666666666666666,
             "#ed7953"
            ],
            [
             0.7777777777777778,
             "#fb9f3a"
            ],
            [
             0.8888888888888888,
             "#fdca26"
            ],
            [
             1,
             "#f0f921"
            ]
           ]
          },
          "colorway": [
           "#636efa",
           "#EF553B",
           "#00cc96",
           "#ab63fa",
           "#FFA15A",
           "#19d3f3",
           "#FF6692",
           "#B6E880",
           "#FF97FF",
           "#FECB52"
          ],
          "font": {
           "color": "#2a3f5f"
          },
          "geo": {
           "bgcolor": "white",
           "lakecolor": "white",
           "landcolor": "#E5ECF6",
           "showlakes": true,
           "showland": true,
           "subunitcolor": "white"
          },
          "hoverlabel": {
           "align": "left"
          },
          "hovermode": "closest",
          "mapbox": {
           "style": "light"
          },
          "paper_bgcolor": "white",
          "plot_bgcolor": "#E5ECF6",
          "polar": {
           "angularaxis": {
            "gridcolor": "white",
            "linecolor": "white",
            "ticks": ""
           },
           "bgcolor": "#E5ECF6",
           "radialaxis": {
            "gridcolor": "white",
            "linecolor": "white",
            "ticks": ""
           }
          },
          "scene": {
           "xaxis": {
            "backgroundcolor": "#E5ECF6",
            "gridcolor": "white",
            "gridwidth": 2,
            "linecolor": "white",
            "showbackground": true,
            "ticks": "",
            "zerolinecolor": "white"
           },
           "yaxis": {
            "backgroundcolor": "#E5ECF6",
            "gridcolor": "white",
            "gridwidth": 2,
            "linecolor": "white",
            "showbackground": true,
            "ticks": "",
            "zerolinecolor": "white"
           },
           "zaxis": {
            "backgroundcolor": "#E5ECF6",
            "gridcolor": "white",
            "gridwidth": 2,
            "linecolor": "white",
            "showbackground": true,
            "ticks": "",
            "zerolinecolor": "white"
           }
          },
          "shapedefaults": {
           "line": {
            "color": "#2a3f5f"
           }
          },
          "ternary": {
           "aaxis": {
            "gridcolor": "white",
            "linecolor": "white",
            "ticks": ""
           },
           "baxis": {
            "gridcolor": "white",
            "linecolor": "white",
            "ticks": ""
           },
           "bgcolor": "#E5ECF6",
           "caxis": {
            "gridcolor": "white",
            "linecolor": "white",
            "ticks": ""
           }
          },
          "title": {
           "x": 0.05
          },
          "xaxis": {
           "automargin": true,
           "gridcolor": "white",
           "linecolor": "white",
           "ticks": "",
           "title": {
            "standoff": 15
           },
           "zerolinecolor": "white",
           "zerolinewidth": 2
          },
          "yaxis": {
           "automargin": true,
           "gridcolor": "white",
           "linecolor": "white",
           "ticks": "",
           "title": {
            "standoff": 15
           },
           "zerolinecolor": "white",
           "zerolinewidth": 2
          }
         }
        },
        "title": {
         "text": "Top 10 Busiest MTA Stations (March 2022 - May 2024)",
         "x": 0.5,
         "xanchor": "center",
         "y": 0.95,
         "yanchor": "top"
        },
        "xaxis": {
         "gridcolor": "lightgrey",
         "linecolor": "black",
         "linewidth": 1,
         "showline": true,
         "tickangle": -45,
         "title": {
          "text": "Station Complex"
         }
        },
        "yaxis": {
         "gridcolor": "lightgrey",
         "linecolor": "black",
         "linewidth": 1,
         "showline": true,
         "tickformat": ",",
         "title": {
          "text": "Total Ridership"
         }
        }
       }
      }
     },
     "metadata": {},
     "output_type": "display_data"
    }
   ],
   "source": [
    "import pandas as pd\n",
    "import plotly.express as px\n",
    "import plotly.graph_objects as go\n",
    "\n",
    "# Assuming df is your DataFrame\n",
    "top_stations = df.groupby('station_complex').agg({\n",
    "    'ridership': 'sum',\n",
    "    'transit_mode': lambda x: ', '.join(pd.unique(x)),\n",
    "    'borough': 'first'\n",
    "}).nlargest(10, 'ridership')\n",
    "\n",
    "# Calculate percentages\n",
    "total_ridership = top_stations['ridership'].sum()\n",
    "top_stations['percentage'] = (top_stations['ridership'] / total_ridership * 100).round(2)\n",
    "\n",
    "# Create figure with hover details\n",
    "fig = go.Figure(data=[\n",
    "    go.Bar(\n",
    "        x=top_stations.index,\n",
    "        y=top_stations['ridership'],\n",
    "        text=top_stations.apply(lambda x: f\"Ridership: {x['ridership']:,.0f}<br>\"+\n",
    "                                        f\"Borough: {x['borough']}<br>\"+\n",
    "                                        f\"Transit: {x['transit_mode']}<br>\"+\n",
    "                                        f\"({x['percentage']}% of top 10)\", axis=1),\n",
    "        hoverinfo='text',\n",
    "        marker_color='rgb(55, 126, 184)',\n",
    "        marker_line_color='rgb(8,48,107)',\n",
    "        marker_line_width=1.5\n",
    "    )\n",
    "])\n",
    "\n",
    "fig.update_layout(\n",
    "    title={\n",
    "        'text': 'Top 10 Busiest MTA Stations (March 2022 - May 2024)',\n",
    "        'y':0.95,\n",
    "        'x':0.5,\n",
    "        'xanchor': 'center',\n",
    "        'yanchor': 'top'\n",
    "    },\n",
    "    xaxis_title=\"Station Complex\",\n",
    "    yaxis_title=\"Total Ridership\",\n",
    "    yaxis_tickformat=',',\n",
    "    height=600,\n",
    "    showlegend=False,\n",
    "    xaxis_tickangle=-45,\n",
    "    plot_bgcolor='white'\n",
    ")\n",
    "\n",
    "fig.update_xaxes(gridcolor='lightgrey', showline=True, linewidth=1, linecolor='black')\n",
    "fig.update_yaxes(gridcolor='lightgrey', showline=True, linewidth=1, linecolor='black')\n",
    "\n",
    "fig.show()"
   ]
  },
  {
   "cell_type": "code",
   "execution_count": 17,
   "metadata": {},
   "outputs": [
    {
     "data": {
      "image/png": "[encoded data removed]",
      "text/plain": [
       "<Figure size 1000x600 with 1 Axes>"
      ]
     },
     "metadata": {},
     "output_type": "display_data"
    }
   ],
   "source": [
    "# 7. Transit mode analysis\n",
    "mode_ridership = df.groupby('transit_mode')['ridership'].sum().sort_values(ascending=False)\n",
    "plt.figure(figsize=(10, 6))\n",
    "mode_ridership.plot(kind='bar')\n",
    "plt.title('Ridership by Transit Mode')\n",
    "plt.xticks(rotation=45)\n",
    "plt.show()"
   ]
  },
  {
   "cell_type": "code",
   "execution_count": null,
   "metadata": {},
   "outputs": [],
   "source": []
  }
 ],
 "metadata": {
  "kernelspec": {
   "display_name": "myproject",
   "language": "python",
   "name": "myproject"
  },
  "language_info": {
   "codemirror_mode": {
    "name": "ipython",
    "version": 3
   },
   "file_extension": ".py",
   "mimetype": "text/x-python",
   "name": "python",
   "nbconvert_exporter": "python",
   "pygments_lexer": "ipython3",
   "version": "3.10.0"
  }
 },
 "nbformat": 4,
 "nbformat_minor": 2
}
